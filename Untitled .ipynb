{
 "cells": [
  {
   "cell_type": "markdown",
   "metadata": {},
   "source": [
    "# Import libraries"
   ]
  },
  {
   "cell_type": "code",
   "execution_count": 6,
   "metadata": {},
   "outputs": [],
   "source": [
    "import tensorflow as tf\n",
    "import pandas as pd\n",
    "import numpy as np\n",
    "import cv2\n",
    "import matplotlib.pyplot as plt\n",
    "from collections import defaultdict, Counter\n",
    "from tqdm.notebook import tqdm\n",
    "from keras_tqdm import TQDMNotebookCallback\n",
    "\n",
    "gpus = tf.config.experimental.list_physical_devices('GPU')\n",
    "if gpus:\n",
    "  # Restrict TensorFlow to only allocate 1*X GB of memory on the first GPU\n",
    "  try:\n",
    "    tf.config.experimental.set_virtual_device_configuration(\n",
    "        gpus[0],\n",
    "        [tf.config.experimental.VirtualDeviceConfiguration(memory_limit=(1024*4))])\n",
    "    logical_gpus = tf.config.experimental.list_logical_devices('GPU')\n",
    "    print(len(gpus), \"Physical GPUs,\", len(logical_gpus), \"Logical GPUs\")\n",
    "  except RuntimeError as e:\n",
    "    # Virtual devices must be set before GPUs have been initialized\n",
    "    print(e)"
   ]
  },
  {
   "cell_type": "markdown",
   "metadata": {},
   "source": [
    "# Read csv file as  data frame"
   ]
  },
  {
   "cell_type": "code",
   "execution_count": 9,
   "metadata": {},
   "outputs": [],
   "source": [
    "labels_df = pd.read_csv('facial_expressions-master\\data\\legend.csv')"
   ]
  },
  {
   "cell_type": "code",
   "execution_count": 11,
   "metadata": {},
   "outputs": [],
   "source": [
    "labels_df['emotion'] = labels_df['emotion'].str.lower()"
   ]
  },
  {
   "cell_type": "markdown",
   "metadata": {},
   "source": [
    "# Data cleaning"
   ]
  },
  {
   "cell_type": "code",
   "execution_count": 12,
   "metadata": {},
   "outputs": [],
   "source": [
    "labels_df.drop( labels_df[ labels_df['emotion'] == 'surprise' ].index , inplace=True)"
   ]
  },
  {
   "cell_type": "code",
   "execution_count": 13,
   "metadata": {},
   "outputs": [],
   "source": [
    "labels_df.drop( labels_df[ labels_df['emotion'] == 'fear' ].index , inplace=True)"
   ]
  },
  {
   "cell_type": "code",
   "execution_count": 14,
   "metadata": {},
   "outputs": [],
   "source": [
    "labels_df.drop( labels_df[ labels_df['emotion'] == 'contempt' ].index , inplace=True)"
   ]
  },
  {
   "cell_type": "code",
   "execution_count": 18,
   "metadata": {},
   "outputs": [],
   "source": [
    "labels_df.drop(columns=['user.id'], inplace=True)"
   ]
  },
  {
   "cell_type": "markdown",
   "metadata": {},
   "source": [
    "## Calculation label count"
   ]
  },
  {
   "cell_type": "code",
   "execution_count": 15,
   "metadata": {},
   "outputs": [],
   "source": [
    "def get_labels_count(labels_df, column_name):\n",
    "    for label in labels_df[column_name].unique():\n",
    "        print('{}: {}'.format(label, len(labels_df[labels_df[column_name] == label])))"
   ]
  },
  {
   "cell_type": "code",
   "execution_count": 16,
   "metadata": {},
   "outputs": [
    {
     "name": "stdout",
     "output_type": "stream",
     "text": [
      "anger: 252\n",
      "disgust: 208\n",
      "neutral: 6868\n",
      "happiness: 5696\n",
      "sadness: 268\n"
     ]
    }
   ],
   "source": [
    "get_labels_count(labels_df, 'emotion')"
   ]
  },
  {
   "cell_type": "markdown",
   "metadata": {},
   "source": [
    "# Data Categorization"
   ]
  },
  {
   "cell_type": "code",
   "execution_count": 20,
   "metadata": {},
   "outputs": [],
   "source": [
    "label_dict = defaultdict(list)\n",
    "for label in labels_df['emotion'].unique():\n",
    "    new_label = label\n",
    "    if label == 'happiness':\n",
    "        new_label = 'positive'\n",
    "    elif label in ['anger', 'sadness', 'disgust']:\n",
    "        new_label = 'negative'\n",
    "    elif label == 'surprise':\n",
    "        continue\n",
    "    label_dict[new_label].extend(labels_df[labels_df['emotion']==label]['image'].values)"
   ]
  },
  {
   "cell_type": "code",
   "execution_count": 21,
   "metadata": {},
   "outputs": [
    {
     "data": {
      "text/plain": [
       "6868"
      ]
     },
     "execution_count": 21,
     "metadata": {},
     "output_type": "execute_result"
    }
   ],
   "source": [
    "len(label_dict['neutral'])"
   ]
  },
  {
   "cell_type": "markdown",
   "metadata": {},
   "source": [
    "## splitting data to training and testing"
   ]
  },
  {
   "cell_type": "code",
   "execution_count": 26,
   "metadata": {},
   "outputs": [],
   "source": [
    "labels_split=defaultdict(dict)"
   ]
  },
  {
   "cell_type": "code",
   "execution_count": 27,
   "metadata": {},
   "outputs": [],
   "source": [
    "for label, images_files in label_dict.items():\n",
    "    np.random.shuffle(images_files)\n",
    "    training_split = int(len(images_files) * 0.8)\n",
    "    training, test = images_files[:training_split], images_files[training_split:]\n",
    "    labels_split[label]['training'] = training\n",
    "    labels_split[label]['testing'] = test"
   ]
  },
  {
   "cell_type": "code",
   "execution_count": 31,
   "metadata": {},
   "outputs": [],
   "source": [
    "images_split=defaultdict(lambda : defaultdict(list))"
   ]
  },
  {
   "cell_type": "code",
   "execution_count": 32,
   "metadata": {},
   "outputs": [
    {
     "data": {
      "text/plain": [
       "dict_keys(['negative', 'neutral', 'positive'])"
      ]
     },
     "execution_count": 32,
     "metadata": {},
     "output_type": "execute_result"
    }
   ],
   "source": [
    "labels_split.keys()"
   ]
  },
  {
   "cell_type": "markdown",
   "metadata": {},
   "source": [
    "# images preprocessing"
   ]
  },
  {
   "cell_type": "code",
   "execution_count": 34,
   "metadata": {
    "scrolled": true
   },
   "outputs": [
    {
     "data": {
      "application/vnd.jupyter.widget-view+json": {
       "model_id": "55cef88880814800986bf48b70824c14",
       "version_major": 2,
       "version_minor": 0
      },
      "text/plain": [
       "HBox(children=(IntProgress(value=0, max=582), HTML(value='')))"
      ]
     },
     "metadata": {},
     "output_type": "display_data"
    },
    {
     "name": "stdout",
     "output_type": "stream",
     "text": [
      "\n"
     ]
    },
    {
     "data": {
      "application/vnd.jupyter.widget-view+json": {
       "model_id": "4264ac67fab542d7b5440836cf689da4",
       "version_major": 2,
       "version_minor": 0
      },
      "text/plain": [
       "HBox(children=(IntProgress(value=0, max=146), HTML(value='')))"
      ]
     },
     "metadata": {},
     "output_type": "display_data"
    },
    {
     "name": "stdout",
     "output_type": "stream",
     "text": [
      "\n"
     ]
    },
    {
     "data": {
      "application/vnd.jupyter.widget-view+json": {
       "model_id": "e775b1b3262e448c9ed70d4d4264c252",
       "version_major": 2,
       "version_minor": 0
      },
      "text/plain": [
       "HBox(children=(IntProgress(value=0, max=5494), HTML(value='')))"
      ]
     },
     "metadata": {},
     "output_type": "display_data"
    },
    {
     "data": {
      "application/vnd.jupyter.widget-view+json": {
       "model_id": "397af49663c444d3a8160156df439a2d",
       "version_major": 2,
       "version_minor": 0
      },
      "text/plain": [
       "HBox(children=(IntProgress(value=0, max=1374), HTML(value='')))"
      ]
     },
     "metadata": {},
     "output_type": "display_data"
    },
    {
     "data": {
      "application/vnd.jupyter.widget-view+json": {
       "model_id": "6aadb13f2bed414ca1817c5c55aeac6b",
       "version_major": 2,
       "version_minor": 0
      },
      "text/plain": [
       "HBox(children=(IntProgress(value=0, max=4556), HTML(value='')))"
      ]
     },
     "metadata": {},
     "output_type": "display_data"
    },
    {
     "data": {
      "application/vnd.jupyter.widget-view+json": {
       "model_id": "9c0fc4ec4869486f98d87d00b8e65784",
       "version_major": 2,
       "version_minor": 0
      },
      "text/plain": [
       "HBox(children=(IntProgress(value=0, max=1140), HTML(value='')))"
      ]
     },
     "metadata": {},
     "output_type": "display_data"
    }
   ],
   "source": [
    "for label in labels_split:\n",
    "    \n",
    "    for split in ['training','testing']:\n",
    "        for img in tqdm(labels_split[label][split]):\n",
    "            if len(images_split[label][split]) >= 1000:\n",
    "                break\n",
    "            img_path = 'facial_expressions-master\\images\\{}'.format(img)\n",
    "            img = cv2.imread(img_path, cv2.IMREAD_GRAYSCALE)\n",
    "            img = cv2.resize(img, (128, 128))\n",
    "            img = np.expand_dims(img, -1)\n",
    "            img = img / 255\n",
    "            \n",
    "            images_split[label][split].append(img)"
   ]
  },
  {
   "cell_type": "code",
   "execution_count": 35,
   "metadata": {},
   "outputs": [
    {
     "data": {
      "text/plain": [
       "146"
      ]
     },
     "execution_count": 35,
     "metadata": {},
     "output_type": "execute_result"
    }
   ],
   "source": [
    "len(images_split['negative']['testing'])"
   ]
  },
  {
   "cell_type": "code",
   "execution_count": 66,
   "metadata": {},
   "outputs": [
    {
     "name": "stdout",
     "output_type": "stream",
     "text": [
      "True\n",
      "True\n",
      "False\n",
      "False\n",
      "False\n",
      "False\n"
     ]
    }
   ],
   "source": [
    "for label in labels_split:\n",
    "    for split in labels_split[label]:\n",
    "        print(len(labels_split[label][split]) == len(images_split[label][split]))"
   ]
  },
  {
   "cell_type": "markdown",
   "metadata": {},
   "source": [
    "## the returned value for each label"
   ]
  },
  {
   "cell_type": "code",
   "execution_count": 36,
   "metadata": {},
   "outputs": [],
   "source": [
    "labels_to_idx = {label: i for i, label in enumerate(labels_split)}"
   ]
  },
  {
   "cell_type": "code",
   "execution_count": 37,
   "metadata": {},
   "outputs": [
    {
     "data": {
      "text/plain": [
       "{'negative': 0, 'neutral': 1, 'positive': 2}"
      ]
     },
     "execution_count": 37,
     "metadata": {},
     "output_type": "execute_result"
    }
   ],
   "source": [
    "labels_to_idx"
   ]
  },
  {
   "cell_type": "markdown",
   "metadata": {},
   "source": [
    "## read training and testing data separately"
   ]
  },
  {
   "cell_type": "code",
   "execution_count": 39,
   "metadata": {},
   "outputs": [],
   "source": [
    "x_training =[]\n",
    "x_testing=[]\n",
    "y_training = []\n",
    "y_testing = []"
   ]
  },
  {
   "cell_type": "code",
   "execution_count": 40,
   "metadata": {},
   "outputs": [],
   "source": [
    "for label in labels_split:\n",
    "    x_training +=  images_split[label]['training']\n",
    "    y_training += [labels_to_idx[label]] * len(images_split[label]['training'])\n",
    "    x_testing +=  images_split[label]['testing']\n",
    "    y_testing += [labels_to_idx[label]] * len(images_split[label]['testing'])\n"
   ]
  },
  {
   "cell_type": "code",
   "execution_count": 41,
   "metadata": {},
   "outputs": [
    {
     "data": {
      "text/plain": [
       "(2582, 2146)"
      ]
     },
     "execution_count": 41,
     "metadata": {},
     "output_type": "execute_result"
    }
   ],
   "source": [
    "len(x_training), len(x_testing)"
   ]
  },
  {
   "cell_type": "code",
   "execution_count": 42,
   "metadata": {},
   "outputs": [
    {
     "data": {
      "text/plain": [
       "(2582, 2146)"
      ]
     },
     "execution_count": 42,
     "metadata": {},
     "output_type": "execute_result"
    }
   ],
   "source": [
    "len(y_training), len(y_testing)"
   ]
  },
  {
   "cell_type": "markdown",
   "metadata": {},
   "source": [
    "## converting label to one-hot vector"
   ]
  },
  {
   "cell_type": "code",
   "execution_count": 43,
   "metadata": {},
   "outputs": [],
   "source": [
    "y_training = np.array(y_training)\n",
    "y_training_encoded = np.zeros((y_training.size, y_training.max()+1))\n",
    "y_training_encoded[np.arange(y_training.size),y_training] = 1\n",
    "\n",
    "y_testing = np.array(y_testing)\n",
    "y_testing_encoded = np.zeros((y_testing.size, y_testing.max()+1))\n",
    "y_testing_encoded[np.arange(y_testing.size),y_testing] = 1"
   ]
  },
  {
   "cell_type": "code",
   "execution_count": 45,
   "metadata": {},
   "outputs": [],
   "source": [
    "x_training = np.array(x_training)\n",
    "x_testing = np.array(x_testing)"
   ]
  },
  {
   "cell_type": "code",
   "execution_count": 46,
   "metadata": {},
   "outputs": [
    {
     "data": {
      "text/plain": [
       "((2582, 128, 128, 1), (2146, 128, 128, 1), (2582, 3), (2146, 3))"
      ]
     },
     "execution_count": 46,
     "metadata": {},
     "output_type": "execute_result"
    }
   ],
   "source": [
    "x_training.shape, x_testing.shape, y_training_encoded.shape, y_testing_encoded.shape"
   ]
  },
  {
   "cell_type": "markdown",
   "metadata": {},
   "source": [
    "## checking labels count"
   ]
  },
  {
   "cell_type": "code",
   "execution_count": 50,
   "metadata": {},
   "outputs": [],
   "source": [
    "labels_count = Counter(y_training)"
   ]
  },
  {
   "cell_type": "code",
   "execution_count": 51,
   "metadata": {},
   "outputs": [
    {
     "data": {
      "text/plain": [
       "Counter({0: 582, 1: 1000, 2: 1000})"
      ]
     },
     "execution_count": 51,
     "metadata": {},
     "output_type": "execute_result"
    }
   ],
   "source": [
    "labels_count"
   ]
  },
  {
   "cell_type": "code",
   "execution_count": 49,
   "metadata": {},
   "outputs": [
    {
     "data": {
      "text/plain": [
       "<matplotlib.axes._subplots.AxesSubplot at 0x248aa0c5908>"
      ]
     },
     "execution_count": 49,
     "metadata": {},
     "output_type": "execute_result"
    },
    {
     "data": {
      "image/png": "[encoded data removed]",
      "text/plain": [
       "<Figure size 432x288 with 1 Axes>"
      ]
     },
     "metadata": {
      "needs_background": "light"
     },
     "output_type": "display_data"
    }
   ],
   "source": [
    "labels_df['emotion'].hist()"
   ]
  },
  {
   "cell_type": "markdown",
   "metadata": {},
   "source": [
    "## giving different weights for each class"
   ]
  },
  {
   "cell_type": "code",
   "execution_count": 52,
   "metadata": {},
   "outputs": [],
   "source": [
    "mx_label = max(labels_count.values())"
   ]
  },
  {
   "cell_type": "code",
   "execution_count": 53,
   "metadata": {},
   "outputs": [],
   "source": [
    "class_weight = {k: mx_label/v for k, v in labels_count.items()}"
   ]
  },
  {
   "cell_type": "code",
   "execution_count": 54,
   "metadata": {},
   "outputs": [
    {
     "data": {
      "text/plain": [
       "{0: 1.7182130584192439, 1: 1.0, 2: 1.0}"
      ]
     },
     "execution_count": 54,
     "metadata": {},
     "output_type": "execute_result"
    }
   ],
   "source": [
    "class_weight"
   ]
  },
  {
   "cell_type": "markdown",
   "metadata": {},
   "source": [
    "# model building"
   ]
  },
  {
   "cell_type": "code",
   "execution_count": 56,
   "metadata": {},
   "outputs": [
    {
     "name": "stdout",
     "output_type": "stream",
     "text": [
      "Model: \"sequential\"\n",
      "_________________________________________________________________\n",
      "Layer (type)                 Output Shape              Param #   \n",
      "=================================================================\n",
      "conv2d (Conv2D)              (None, 128, 128, 16)      160       \n",
      "_________________________________________________________________\n",
      "batch_normalization (BatchNo (None, 128, 128, 16)      64        \n",
      "_________________________________________________________________\n",
      "max_pooling2d (MaxPooling2D) (None, 64, 64, 16)        0         \n",
      "_________________________________________________________________\n",
      "conv2d_1 (Conv2D)            (None, 64, 64, 32)        4640      \n",
      "_________________________________________________________________\n",
      "batch_normalization_1 (Batch (None, 64, 64, 32)        128       \n",
      "_________________________________________________________________\n",
      "dropout (Dropout)            (None, 64, 64, 32)        0         \n",
      "_________________________________________________________________\n",
      "max_pooling2d_1 (MaxPooling2 (None, 32, 32, 32)        0         \n",
      "_________________________________________________________________\n",
      "conv2d_2 (Conv2D)            (None, 32, 32, 64)        18496     \n",
      "_________________________________________________________________\n",
      "batch_normalization_2 (Batch (None, 32, 32, 64)        256       \n",
      "_________________________________________________________________\n",
      "dropout_1 (Dropout)          (None, 32, 32, 64)        0         \n",
      "_________________________________________________________________\n",
      "max_pooling2d_2 (MaxPooling2 (None, 16, 16, 64)        0         \n",
      "_________________________________________________________________\n",
      "conv2d_3 (Conv2D)            (None, 16, 16, 128)       73856     \n",
      "_________________________________________________________________\n",
      "batch_normalization_3 (Batch (None, 16, 16, 128)       512       \n",
      "_________________________________________________________________\n",
      "dropout_2 (Dropout)          (None, 16, 16, 128)       0         \n",
      "_________________________________________________________________\n",
      "max_pooling2d_3 (MaxPooling2 (None, 6, 6, 128)         0         \n",
      "_________________________________________________________________\n",
      "flatten (Flatten)            (None, 4608)              0         \n",
      "_________________________________________________________________\n",
      "dense (Dense)                (None, 128)               589952    \n",
      "_________________________________________________________________\n",
      "dropout_3 (Dropout)          (None, 128)               0         \n",
      "_________________________________________________________________\n",
      "dense_1 (Dense)              (None, 3)                 387       \n",
      "=================================================================\n",
      "Total params: 688,451\n",
      "Trainable params: 687,971\n",
      "Non-trainable params: 480\n",
      "_________________________________________________________________\n"
     ]
    }
   ],
   "source": [
    "model = tf.keras.Sequential([\n",
    "        \n",
    "    tf.keras.layers.InputLayer(input_shape=(128, 128, 1)),\n",
    "    \n",
    "    tf.keras.layers.Conv2D(filters=16, kernel_size=(3,3), activation='relu', padding='same'),\n",
    "    tf.keras.layers.BatchNormalization(),\n",
    "    tf.keras.layers.MaxPool2D(pool_size=(2,2), padding='same'),\n",
    "\n",
    "    tf.keras.layers.Conv2D(filters=32, kernel_size=(3,3), activation='relu', padding='same'),\n",
    "    tf.keras.layers.BatchNormalization(),\n",
    "    tf.keras.layers.Dropout(0.25),\n",
    "    tf.keras.layers.MaxPool2D(pool_size=(2,2), padding='same'),\n",
    "\n",
    "    tf.keras.layers.Conv2D(filters=64, kernel_size=(3,3), activation='relu', padding='same'),\n",
    "    tf.keras.layers.BatchNormalization(),\n",
    "    tf.keras.layers.Dropout(0.25),\n",
    "    tf.keras.layers.MaxPool2D(pool_size=(2,2), padding='same'),\n",
    "\n",
    "    tf.keras.layers.Conv2D(filters=128, kernel_size=(3,3), activation='relu', padding='same'),\n",
    "    tf.keras.layers.BatchNormalization(),\n",
    "    tf.keras.layers.Dropout(0.25),\n",
    "    tf.keras.layers.MaxPool2D(pool_size=(3,3), padding='same'),\n",
    "    \n",
    "    tf.keras.layers.Flatten(),\n",
    "    \n",
    "    tf.keras.layers.Dense(128, activation='relu', kernel_regularizer=tf.keras.regularizers.l2(0.01)),\n",
    "    tf.keras.layers.Dropout(0.5),\n",
    "\n",
    "    tf.keras.layers.Dense(3, activation='softmax')\n",
    "])\n",
    "model.summary()"
   ]
  },
  {
   "cell_type": "code",
   "execution_count": 57,
   "metadata": {},
   "outputs": [],
   "source": [
    "model.compile(optimizer=tf.keras.optimizers.Adam(lr=0.0001), loss='categorical_crossentropy', metrics=['accuracy'])"
   ]
  },
  {
   "cell_type": "code",
   "execution_count": 58,
   "metadata": {},
   "outputs": [],
   "source": [
    "checkpoint = tf.keras.callbacks.ModelCheckpoint('models/{epoch:02d}-{val_loss:.3f}.hdf5', monitor='val_loss', verbose=1, save_best_only=True, save_weights_only=False)\n"
   ]
  },
  {
   "cell_type": "markdown",
   "metadata": {},
   "source": [
    "# model training"
   ]
  },
  {
   "cell_type": "code",
   "execution_count": 115,
   "metadata": {},
   "outputs": [
    {
     "name": "stdout",
     "output_type": "stream",
     "text": [
      "Train on 2582 samples, validate on 2146 samples\n",
      "Epoch 1/100\n",
      "2432/2582 [===========================>..] - ETA: 0s - loss: 4.8892 - accuracy: 0.3758\n",
      "Epoch 00001: val_loss improved from inf to 3.58340, saving model to models/01-3.583.hdf5\n",
      "2582/2582 [==============================] - 3s 1ms/sample - loss: 4.8349 - accuracy: 0.3761 - val_loss: 3.5834 - val_accuracy: 0.4660\n",
      "Epoch 2/100\n",
      "2432/2582 [===========================>..] - ETA: 0s - loss: 3.7124 - accuracy: 0.4589\n",
      "Epoch 00002: val_loss improved from 3.58340 to 3.56107, saving model to models/02-3.561.hdf5\n",
      "2582/2582 [==============================] - 1s 455us/sample - loss: 3.7092 - accuracy: 0.4586 - val_loss: 3.5611 - val_accuracy: 0.4660\n",
      "Epoch 3/100\n",
      "2432/2582 [===========================>..] - ETA: 0s - loss: 3.6005 - accuracy: 0.4774\n",
      "Epoch 00003: val_loss did not improve from 3.56107\n",
      "2582/2582 [==============================] - 1s 438us/sample - loss: 3.5978 - accuracy: 0.4802 - val_loss: 3.5978 - val_accuracy: 0.4660\n",
      "Epoch 4/100\n",
      "2432/2582 [===========================>..] - ETA: 0s - loss: 3.5748 - accuracy: 0.4840\n",
      "Epoch 00004: val_loss did not improve from 3.56107\n",
      "2582/2582 [==============================] - 1s 435us/sample - loss: 3.5696 - accuracy: 0.4849 - val_loss: 3.6565 - val_accuracy: 0.4660\n",
      "Epoch 5/100\n",
      "2432/2582 [===========================>..] - ETA: 0s - loss: 3.4923 - accuracy: 0.5115\n",
      "Epoch 00005: val_loss did not improve from 3.56107\n",
      "2582/2582 [==============================] - 1s 442us/sample - loss: 3.4879 - accuracy: 0.5170 - val_loss: 3.6720 - val_accuracy: 0.4660\n",
      "Epoch 6/100\n",
      "2432/2582 [===========================>..] - ETA: 0s - loss: 3.4362 - accuracy: 0.5160\n",
      "Epoch 00006: val_loss did not improve from 3.56107\n",
      "2582/2582 [==============================] - 1s 437us/sample - loss: 3.4363 - accuracy: 0.5151 - val_loss: 3.6501 - val_accuracy: 0.4660\n",
      "Epoch 7/100\n",
      "2432/2582 [===========================>..] - ETA: 0s - loss: 3.3765 - accuracy: 0.5407\n",
      "Epoch 00007: val_loss did not improve from 3.56107\n",
      "2582/2582 [==============================] - 1s 438us/sample - loss: 3.3731 - accuracy: 0.5418 - val_loss: 3.5740 - val_accuracy: 0.4660\n",
      "Epoch 8/100\n",
      "2432/2582 [===========================>..] - ETA: 0s - loss: 3.3266 - accuracy: 0.5485\n",
      "Epoch 00008: val_loss did not improve from 3.56107\n",
      "2582/2582 [==============================] - 1s 438us/sample - loss: 3.3260 - accuracy: 0.5461 - val_loss: 3.5702 - val_accuracy: 0.4660\n",
      "Epoch 9/100\n",
      "2432/2582 [===========================>..] - ETA: 0s - loss: 3.2864 - accuracy: 0.5703\n",
      "Epoch 00009: val_loss improved from 3.56107 to 3.51690, saving model to models/09-3.517.hdf5\n",
      "2582/2582 [==============================] - 1s 457us/sample - loss: 3.2873 - accuracy: 0.5647 - val_loss: 3.5169 - val_accuracy: 0.4660\n",
      "Epoch 10/100\n",
      "2432/2582 [===========================>..] - ETA: 0s - loss: 3.2209 - accuracy: 0.5831\n",
      "Epoch 00010: val_loss improved from 3.51690 to 3.41814, saving model to models/10-3.418.hdf5\n",
      "2582/2582 [==============================] - 1s 457us/sample - loss: 3.2184 - accuracy: 0.5825 - val_loss: 3.4181 - val_accuracy: 0.4660\n",
      "Epoch 11/100\n",
      "2432/2582 [===========================>..] - ETA: 0s - loss: 3.1757 - accuracy: 0.5888\n",
      "Epoch 00011: val_loss improved from 3.41814 to 3.25692, saving model to models/11-3.257.hdf5\n",
      "2582/2582 [==============================] - 1s 455us/sample - loss: 3.1733 - accuracy: 0.5918 - val_loss: 3.2569 - val_accuracy: 0.4674\n",
      "Epoch 12/100\n",
      "2432/2582 [===========================>..] - ETA: 0s - loss: 3.1136 - accuracy: 0.5987\n",
      "Epoch 00012: val_loss improved from 3.25692 to 3.18118, saving model to models/12-3.181.hdf5\n",
      "2582/2582 [==============================] - 1s 453us/sample - loss: 3.1144 - accuracy: 0.5968 - val_loss: 3.1812 - val_accuracy: 0.4753\n",
      "Epoch 13/100\n",
      "2432/2582 [===========================>..] - ETA: 0s - loss: 3.0492 - accuracy: 0.6197\n",
      "Epoch 00013: val_loss improved from 3.18118 to 3.10907, saving model to models/13-3.109.hdf5\n",
      "2582/2582 [==============================] - 1s 456us/sample - loss: 3.0550 - accuracy: 0.6162 - val_loss: 3.1091 - val_accuracy: 0.4925\n",
      "Epoch 14/100\n",
      "2432/2582 [===========================>..] - ETA: 0s - loss: 3.0242 - accuracy: 0.6135\n",
      "Epoch 00014: val_loss improved from 3.10907 to 3.02462, saving model to models/14-3.025.hdf5\n",
      "2582/2582 [==============================] - 1s 457us/sample - loss: 3.0206 - accuracy: 0.6177 - val_loss: 3.0246 - val_accuracy: 0.5401\n",
      "Epoch 15/100\n",
      "2432/2582 [===========================>..] - ETA: 0s - loss: 2.9430 - accuracy: 0.6443\n",
      "Epoch 00015: val_loss improved from 3.02462 to 2.96746, saving model to models/15-2.967.hdf5\n",
      "2582/2582 [==============================] - 1s 455us/sample - loss: 2.9426 - accuracy: 0.6448 - val_loss: 2.9675 - val_accuracy: 0.5671\n",
      "Epoch 16/100\n",
      "2432/2582 [===========================>..] - ETA: 0s - loss: 2.8972 - accuracy: 0.6488\n",
      "Epoch 00016: val_loss improved from 2.96746 to 2.90565, saving model to models/16-2.906.hdf5\n",
      "2582/2582 [==============================] - 1s 458us/sample - loss: 2.8979 - accuracy: 0.6491 - val_loss: 2.9056 - val_accuracy: 0.5820\n",
      "Epoch 17/100\n",
      "2432/2582 [===========================>..] - ETA: 0s - loss: 2.8601 - accuracy: 0.6620\n",
      "Epoch 00017: val_loss improved from 2.90565 to 2.84401, saving model to models/17-2.844.hdf5\n",
      "2582/2582 [==============================] - 1s 459us/sample - loss: 2.8555 - accuracy: 0.6638 - val_loss: 2.8440 - val_accuracy: 0.6021\n",
      "Epoch 18/100\n",
      "2432/2582 [===========================>..] - ETA: 0s - loss: 2.8054 - accuracy: 0.6817\n",
      "Epoch 00018: val_loss improved from 2.84401 to 2.79425, saving model to models/18-2.794.hdf5\n",
      "2582/2582 [==============================] - 1s 458us/sample - loss: 2.8062 - accuracy: 0.6809 - val_loss: 2.7943 - val_accuracy: 0.6174\n",
      "Epoch 19/100\n",
      "2432/2582 [===========================>..] - ETA: 0s - loss: 2.7646 - accuracy: 0.6813\n",
      "Epoch 00019: val_loss improved from 2.79425 to 2.73930, saving model to models/19-2.739.hdf5\n",
      "2582/2582 [==============================] - 1s 457us/sample - loss: 2.7591 - accuracy: 0.6836 - val_loss: 2.7393 - val_accuracy: 0.6440\n",
      "Epoch 20/100\n",
      "2432/2582 [===========================>..] - ETA: 0s - loss: 2.6913 - accuracy: 0.6990\n",
      "Epoch 00020: val_loss improved from 2.73930 to 2.68248, saving model to models/20-2.682.hdf5\n",
      "2582/2582 [==============================] - 1s 457us/sample - loss: 2.6863 - accuracy: 0.7014 - val_loss: 2.6825 - val_accuracy: 0.6594\n",
      "Epoch 21/100\n",
      "2432/2582 [===========================>..] - ETA: 0s - loss: 2.6777 - accuracy: 0.7031\n",
      "Epoch 00021: val_loss improved from 2.68248 to 2.63895, saving model to models/21-2.639.hdf5\n",
      "2582/2582 [==============================] - 1s 459us/sample - loss: 2.6754 - accuracy: 0.7022 - val_loss: 2.6389 - val_accuracy: 0.6775\n",
      "Epoch 22/100\n",
      "2432/2582 [===========================>..] - ETA: 0s - loss: 2.6140 - accuracy: 0.7294\n",
      "Epoch 00022: val_loss improved from 2.63895 to 2.60255, saving model to models/22-2.603.hdf5\n",
      "2582/2582 [==============================] - 1s 456us/sample - loss: 2.6131 - accuracy: 0.7297 - val_loss: 2.6025 - val_accuracy: 0.6752\n",
      "Epoch 23/100\n",
      "2432/2582 [===========================>..] - ETA: 0s - loss: 2.5655 - accuracy: 0.7220\n",
      "Epoch 00023: val_loss improved from 2.60255 to 2.55494, saving model to models/23-2.555.hdf5\n",
      "2582/2582 [==============================] - 1s 457us/sample - loss: 2.5632 - accuracy: 0.7250 - val_loss: 2.5549 - val_accuracy: 0.6869\n",
      "Epoch 24/100\n",
      "2432/2582 [===========================>..] - ETA: 0s - loss: 2.5408 - accuracy: 0.7196\n",
      "Epoch 00024: val_loss improved from 2.55494 to 2.50232, saving model to models/24-2.502.hdf5\n",
      "2582/2582 [==============================] - 1s 457us/sample - loss: 2.5379 - accuracy: 0.7208 - val_loss: 2.5023 - val_accuracy: 0.7055\n",
      "Epoch 25/100\n",
      "2432/2582 [===========================>..] - ETA: 0s - loss: 2.4920 - accuracy: 0.7385\n",
      "Epoch 00025: val_loss improved from 2.50232 to 2.48585, saving model to models/25-2.486.hdf5\n",
      "2582/2582 [==============================] - 1s 459us/sample - loss: 2.4887 - accuracy: 0.7397 - val_loss: 2.4859 - val_accuracy: 0.6873\n",
      "Epoch 26/100\n",
      "2432/2582 [===========================>..] - ETA: 0s - loss: 2.4318 - accuracy: 0.7447\n",
      "Epoch 00026: val_loss improved from 2.48585 to 2.44445, saving model to models/26-2.444.hdf5\n",
      "2582/2582 [==============================] - 1s 459us/sample - loss: 2.4400 - accuracy: 0.7421 - val_loss: 2.4444 - val_accuracy: 0.7041\n"
     ]
    },
    {
     "name": "stdout",
     "output_type": "stream",
     "text": [
      "Epoch 27/100\n",
      "2560/2582 [============================>.] - ETA: 0s - loss: 2.4041 - accuracy: 0.7523\n",
      "Epoch 00027: val_loss improved from 2.44445 to 2.37664, saving model to models/27-2.377.hdf5\n",
      "2582/2582 [==============================] - 1s 469us/sample - loss: 2.4021 - accuracy: 0.7533 - val_loss: 2.3766 - val_accuracy: 0.7283\n",
      "Epoch 28/100\n",
      "2432/2582 [===========================>..] - ETA: 0s - loss: 2.3692 - accuracy: 0.7516\n",
      "Epoch 00028: val_loss improved from 2.37664 to 2.36559, saving model to models/28-2.366.hdf5\n",
      "2582/2582 [==============================] - 1s 458us/sample - loss: 2.3778 - accuracy: 0.7490 - val_loss: 2.3656 - val_accuracy: 0.7130\n",
      "Epoch 29/100\n",
      "2432/2582 [===========================>..] - ETA: 0s - loss: 2.3278 - accuracy: 0.7710\n",
      "Epoch 00029: val_loss improved from 2.36559 to 2.31022, saving model to models/29-2.310.hdf5\n",
      "2582/2582 [==============================] - 1s 475us/sample - loss: 2.3270 - accuracy: 0.7703 - val_loss: 2.3102 - val_accuracy: 0.7372\n",
      "Epoch 30/100\n",
      "2432/2582 [===========================>..] - ETA: 0s - loss: 2.2772 - accuracy: 0.7644\n",
      "Epoch 00030: val_loss did not improve from 2.31022\n",
      "2582/2582 [==============================] - 1s 450us/sample - loss: 2.2843 - accuracy: 0.7599 - val_loss: 2.3256 - val_accuracy: 0.7162\n",
      "Epoch 31/100\n",
      "2432/2582 [===========================>..] - ETA: 0s - loss: 2.2638 - accuracy: 0.7710\n",
      "Epoch 00031: val_loss improved from 2.31022 to 2.28433, saving model to models/31-2.284.hdf5\n",
      "2582/2582 [==============================] - 1s 469us/sample - loss: 2.2587 - accuracy: 0.7719 - val_loss: 2.2843 - val_accuracy: 0.7335\n",
      "Epoch 32/100\n",
      "2432/2582 [===========================>..] - ETA: 0s - loss: 2.2077 - accuracy: 0.7763\n",
      "Epoch 00032: val_loss improved from 2.28433 to 2.21039, saving model to models/32-2.210.hdf5\n",
      "2582/2582 [==============================] - 1s 483us/sample - loss: 2.2085 - accuracy: 0.7765 - val_loss: 2.2104 - val_accuracy: 0.7493\n",
      "Epoch 33/100\n",
      "2432/2582 [===========================>..] - ETA: 0s - loss: 2.1862 - accuracy: 0.7755\n",
      "Epoch 00033: val_loss did not improve from 2.21039\n",
      "2582/2582 [==============================] - 1s 470us/sample - loss: 2.1843 - accuracy: 0.7769 - val_loss: 2.2200 - val_accuracy: 0.7363\n",
      "Epoch 34/100\n",
      "2432/2582 [===========================>..] - ETA: 0s - loss: 2.1625 - accuracy: 0.7907\n",
      "Epoch 00034: val_loss improved from 2.21039 to 2.16824, saving model to models/34-2.168.hdf5\n",
      "2582/2582 [==============================] - 1s 463us/sample - loss: 2.1601 - accuracy: 0.7924 - val_loss: 2.1682 - val_accuracy: 0.7395\n",
      "Epoch 35/100\n",
      "2432/2582 [===========================>..] - ETA: 0s - loss: 2.1071 - accuracy: 0.7919\n",
      "Epoch 00035: val_loss improved from 2.16824 to 2.11707, saving model to models/35-2.117.hdf5\n",
      "2582/2582 [==============================] - 1s 485us/sample - loss: 2.1074 - accuracy: 0.7936 - val_loss: 2.1171 - val_accuracy: 0.7637\n",
      "Epoch 36/100\n",
      "2432/2582 [===========================>..] - ETA: 0s - loss: 2.0802 - accuracy: 0.7891 ETA: 0s - loss: 2.0908 - accuracy: \n",
      "Epoch 00036: val_loss improved from 2.11707 to 2.08509, saving model to models/36-2.085.hdf5\n",
      "2582/2582 [==============================] - 1s 506us/sample - loss: 2.0762 - accuracy: 0.7905 - val_loss: 2.0851 - val_accuracy: 0.7670\n",
      "Epoch 37/100\n",
      "2560/2582 [============================>.] - ETA: 0s - loss: 2.0394 - accuracy: 0.7992\n",
      "Epoch 00037: val_loss improved from 2.08509 to 2.06215, saving model to models/37-2.062.hdf5\n",
      "2582/2582 [==============================] - 1s 505us/sample - loss: 2.0381 - accuracy: 0.7998 - val_loss: 2.0622 - val_accuracy: 0.7656\n",
      "Epoch 38/100\n",
      "2432/2582 [===========================>..] - ETA: 0s - loss: 1.9929 - accuracy: 0.8039\n",
      "Epoch 00038: val_loss improved from 2.06215 to 2.03820, saving model to models/38-2.038.hdf5\n",
      "2582/2582 [==============================] - 1s 453us/sample - loss: 1.9902 - accuracy: 0.8075 - val_loss: 2.0382 - val_accuracy: 0.7675\n",
      "Epoch 39/100\n",
      "2432/2582 [===========================>..] - ETA: 0s - loss: 1.9411 - accuracy: 0.8273\n",
      "Epoch 00039: val_loss did not improve from 2.03820\n",
      "2582/2582 [==============================] - 1s 432us/sample - loss: 1.9395 - accuracy: 0.8242 - val_loss: 2.0476 - val_accuracy: 0.7540\n",
      "Epoch 40/100\n",
      "2432/2582 [===========================>..] - ETA: 0s - loss: 1.9378 - accuracy: 0.8125\n",
      "Epoch 00040: val_loss improved from 2.03820 to 1.98541, saving model to models/40-1.985.hdf5\n",
      "2582/2582 [==============================] - 1s 449us/sample - loss: 1.9347 - accuracy: 0.8106 - val_loss: 1.9854 - val_accuracy: 0.7773\n",
      "Epoch 41/100\n",
      "2432/2582 [===========================>..] - ETA: 0s - loss: 1.9066 - accuracy: 0.8203\n",
      "Epoch 00041: val_loss improved from 1.98541 to 1.96515, saving model to models/41-1.965.hdf5\n",
      "2582/2582 [==============================] - 1s 465us/sample - loss: 1.9049 - accuracy: 0.8222 - val_loss: 1.9652 - val_accuracy: 0.7731\n",
      "Epoch 42/100\n",
      "2432/2582 [===========================>..] - ETA: 0s - loss: 1.8584 - accuracy: 0.8359\n",
      "Epoch 00042: val_loss improved from 1.96515 to 1.95617, saving model to models/42-1.956.hdf5\n",
      "2582/2582 [==============================] - 1s 509us/sample - loss: 1.8626 - accuracy: 0.8331 - val_loss: 1.9562 - val_accuracy: 0.7628\n",
      "Epoch 43/100\n",
      "2560/2582 [============================>.] - ETA: 0s - loss: 1.8342 - accuracy: 0.8340\n",
      "Epoch 00043: val_loss improved from 1.95617 to 1.94822, saving model to models/43-1.948.hdf5\n",
      "2582/2582 [==============================] - 1s 526us/sample - loss: 1.8342 - accuracy: 0.8342 - val_loss: 1.9482 - val_accuracy: 0.7605\n",
      "Epoch 44/100\n",
      "2560/2582 [============================>.] - ETA: 0s - loss: 1.8189 - accuracy: 0.8316\n",
      "Epoch 00044: val_loss improved from 1.94822 to 1.91375, saving model to models/44-1.914.hdf5\n",
      "2582/2582 [==============================] - 1s 495us/sample - loss: 1.8192 - accuracy: 0.8323 - val_loss: 1.9138 - val_accuracy: 0.7745\n",
      "Epoch 45/100\n",
      "2560/2582 [============================>.] - ETA: 0s - loss: 1.7809 - accuracy: 0.8414\n",
      "Epoch 00045: val_loss improved from 1.91375 to 1.87694, saving model to models/45-1.877.hdf5\n",
      "2582/2582 [==============================] - 1s 474us/sample - loss: 1.7799 - accuracy: 0.8416 - val_loss: 1.8769 - val_accuracy: 0.7754\n",
      "Epoch 46/100\n",
      "2432/2582 [===========================>..] - ETA: 0s - loss: 1.7396 - accuracy: 0.8462\n",
      "Epoch 00046: val_loss improved from 1.87694 to 1.86177, saving model to models/46-1.862.hdf5\n",
      "2582/2582 [==============================] - 1s 454us/sample - loss: 1.7388 - accuracy: 0.8455 - val_loss: 1.8618 - val_accuracy: 0.7745\n",
      "Epoch 47/100\n",
      "2432/2582 [===========================>..] - ETA: 0s - loss: 1.7217 - accuracy: 0.8520\n",
      "Epoch 00047: val_loss improved from 1.86177 to 1.84478, saving model to models/47-1.845.hdf5\n",
      "2582/2582 [==============================] - 1s 473us/sample - loss: 1.7168 - accuracy: 0.8528 - val_loss: 1.8448 - val_accuracy: 0.7689\n",
      "Epoch 48/100\n",
      "2432/2582 [===========================>..] - ETA: 0s - loss: 1.7161 - accuracy: 0.8462\n",
      "Epoch 00048: val_loss improved from 1.84478 to 1.79611, saving model to models/48-1.796.hdf5\n",
      "2582/2582 [==============================] - 1s 487us/sample - loss: 1.7140 - accuracy: 0.8470 - val_loss: 1.7961 - val_accuracy: 0.7861\n",
      "Epoch 49/100\n",
      "2560/2582 [============================>.] - ETA: 0s - loss: 1.6507 - accuracy: 0.8570\n",
      "Epoch 00049: val_loss improved from 1.79611 to 1.75365, saving model to models/49-1.754.hdf5\n",
      "2582/2582 [==============================] - 1s 486us/sample - loss: 1.6499 - accuracy: 0.8575 - val_loss: 1.7536 - val_accuracy: 0.8020\n",
      "Epoch 50/100\n",
      "2432/2582 [===========================>..] - ETA: 0s - loss: 1.6421 - accuracy: 0.8557\n",
      "Epoch 00050: val_loss improved from 1.75365 to 1.73126, saving model to models/50-1.731.hdf5\n",
      "2582/2582 [==============================] - 1s 475us/sample - loss: 1.6372 - accuracy: 0.8594 - val_loss: 1.7313 - val_accuracy: 0.8024\n",
      "Epoch 51/100\n",
      "2432/2582 [===========================>..] - ETA: 0s - loss: 1.6258 - accuracy: 0.8598\n",
      "Epoch 00051: val_loss did not improve from 1.73126\n",
      "2582/2582 [==============================] - 1s 452us/sample - loss: 1.6243 - accuracy: 0.8582 - val_loss: 1.7804 - val_accuracy: 0.7768\n",
      "Epoch 52/100\n",
      "2432/2582 [===========================>..] - ETA: 0s - loss: 1.5851 - accuracy: 0.8651\n",
      "Epoch 00052: val_loss improved from 1.73126 to 1.72095, saving model to models/52-1.721.hdf5\n",
      "2582/2582 [==============================] - 1s 472us/sample - loss: 1.5799 - accuracy: 0.8668 - val_loss: 1.7210 - val_accuracy: 0.7996\n",
      "Epoch 53/100\n",
      "2432/2582 [===========================>..] - ETA: 0s - loss: 1.5597 - accuracy: 0.8754\n",
      "Epoch 00053: val_loss improved from 1.72095 to 1.68077, saving model to models/53-1.681.hdf5\n",
      "2582/2582 [==============================] - 1s 453us/sample - loss: 1.5599 - accuracy: 0.8749 - val_loss: 1.6808 - val_accuracy: 0.8108\n",
      "Epoch 54/100\n",
      "2432/2582 [===========================>..] - ETA: 0s - loss: 1.5370 - accuracy: 0.8836\n",
      "Epoch 00054: val_loss did not improve from 1.68077\n",
      "2582/2582 [==============================] - 1s 438us/sample - loss: 1.5336 - accuracy: 0.8838 - val_loss: 1.6842 - val_accuracy: 0.7917\n",
      "Epoch 55/100\n",
      "2432/2582 [===========================>..] - ETA: 0s - loss: 1.5065 - accuracy: 0.8762\n",
      "Epoch 00055: val_loss improved from 1.68077 to 1.66621, saving model to models/55-1.666.hdf5\n",
      "2582/2582 [==============================] - 1s 458us/sample - loss: 1.5088 - accuracy: 0.8761 - val_loss: 1.6662 - val_accuracy: 0.7926\n",
      "Epoch 56/100\n",
      "2432/2582 [===========================>..] - ETA: 0s - loss: 1.4837 - accuracy: 0.8709\n",
      "Epoch 00056: val_loss improved from 1.66621 to 1.64781, saving model to models/56-1.648.hdf5\n",
      "2582/2582 [==============================] - 1s 467us/sample - loss: 1.4868 - accuracy: 0.8687 - val_loss: 1.6478 - val_accuracy: 0.7992\n",
      "Epoch 57/100\n",
      "2560/2582 [============================>.] - ETA: 0s - loss: 1.4716 - accuracy: 0.8801\n",
      "Epoch 00057: val_loss did not improve from 1.64781\n",
      "2582/2582 [==============================] - 1s 467us/sample - loss: 1.4703 - accuracy: 0.8803 - val_loss: 1.6504 - val_accuracy: 0.7889\n",
      "Epoch 58/100\n",
      "2432/2582 [===========================>..] - ETA: 0s - loss: 1.4467 - accuracy: 0.8820\n",
      "Epoch 00058: val_loss improved from 1.64781 to 1.61485, saving model to models/58-1.615.hdf5\n",
      "2582/2582 [==============================] - 1s 471us/sample - loss: 1.4485 - accuracy: 0.8803 - val_loss: 1.6149 - val_accuracy: 0.7992\n",
      "Epoch 59/100\n",
      "2560/2582 [============================>.] - ETA: 0s - loss: 1.4240 - accuracy: 0.8934\n",
      "Epoch 00059: val_loss improved from 1.61485 to 1.59026, saving model to models/59-1.590.hdf5\n",
      "2582/2582 [==============================] - 1s 469us/sample - loss: 1.4244 - accuracy: 0.8927 - val_loss: 1.5903 - val_accuracy: 0.8066\n",
      "Epoch 60/100\n",
      "2432/2582 [===========================>..] - ETA: 0s - loss: 1.3929 - accuracy: 0.8984\n",
      "Epoch 00060: val_loss improved from 1.59026 to 1.58224, saving model to models/60-1.582.hdf5\n",
      "2582/2582 [==============================] - 1s 461us/sample - loss: 1.3898 - accuracy: 0.8989 - val_loss: 1.5822 - val_accuracy: 0.8015\n",
      "Epoch 61/100\n",
      "2432/2582 [===========================>..] - ETA: 0s - loss: 1.3669 - accuracy: 0.8914\n",
      "Epoch 00061: val_loss improved from 1.58224 to 1.57231, saving model to models/61-1.572.hdf5\n",
      "2582/2582 [==============================] - 1s 464us/sample - loss: 1.3697 - accuracy: 0.8904 - val_loss: 1.5723 - val_accuracy: 0.8062\n",
      "Epoch 62/100\n",
      "2432/2582 [===========================>..] - ETA: 0s - loss: 1.3609 - accuracy: 0.8956\n",
      "Epoch 00062: val_loss improved from 1.57231 to 1.56761, saving model to models/62-1.568.hdf5\n",
      "2582/2582 [==============================] - 1s 475us/sample - loss: 1.3577 - accuracy: 0.8966 - val_loss: 1.5676 - val_accuracy: 0.8001\n",
      "Epoch 63/100\n",
      "2432/2582 [===========================>..] - ETA: 0s - loss: 1.3334 - accuracy: 0.9013\n",
      "Epoch 00063: val_loss improved from 1.56761 to 1.55192, saving model to models/63-1.552.hdf5\n",
      "2582/2582 [==============================] - 1s 475us/sample - loss: 1.3281 - accuracy: 0.9032 - val_loss: 1.5519 - val_accuracy: 0.8150\n",
      "Epoch 64/100\n",
      "2432/2582 [===========================>..] - ETA: 0s - loss: 1.2992 - accuracy: 0.9091\n",
      "Epoch 00064: val_loss improved from 1.55192 to 1.53698, saving model to models/64-1.537.hdf5\n",
      "2582/2582 [==============================] - 1s 479us/sample - loss: 1.2995 - accuracy: 0.9090 - val_loss: 1.5370 - val_accuracy: 0.8080\n",
      "Epoch 65/100\n",
      "2432/2582 [===========================>..] - ETA: 0s - loss: 1.2893 - accuracy: 0.9062\n",
      "Epoch 00065: val_loss improved from 1.53698 to 1.51812, saving model to models/65-1.518.hdf5\n",
      "2582/2582 [==============================] - 1s 460us/sample - loss: 1.2894 - accuracy: 0.9067 - val_loss: 1.5181 - val_accuracy: 0.8066\n",
      "Epoch 66/100\n",
      "2432/2582 [===========================>..] - ETA: 0s - loss: 1.2470 - accuracy: 0.9165\n",
      "Epoch 00066: val_loss did not improve from 1.51812\n",
      "2582/2582 [==============================] - 1s 456us/sample - loss: 1.2497 - accuracy: 0.9140 - val_loss: 1.5321 - val_accuracy: 0.7945\n",
      "Epoch 67/100\n",
      "2432/2582 [===========================>..] - ETA: 0s - loss: 1.2770 - accuracy: 0.9021\n",
      "Epoch 00067: val_loss improved from 1.51812 to 1.50217, saving model to models/67-1.502.hdf5\n",
      "2582/2582 [==============================] - 1s 453us/sample - loss: 1.2724 - accuracy: 0.9028 - val_loss: 1.5022 - val_accuracy: 0.8034\n",
      "Epoch 68/100\n",
      "2432/2582 [===========================>..] - ETA: 0s - loss: 1.2168 - accuracy: 0.9182\n",
      "Epoch 00068: val_loss improved from 1.50217 to 1.46881, saving model to models/68-1.469.hdf5\n",
      "2582/2582 [==============================] - 1s 470us/sample - loss: 1.2131 - accuracy: 0.9191 - val_loss: 1.4688 - val_accuracy: 0.8248\n",
      "Epoch 69/100\n",
      "2432/2582 [===========================>..] - ETA: 0s - loss: 1.2130 - accuracy: 0.9165\n",
      "Epoch 00069: val_loss improved from 1.46881 to 1.44515, saving model to models/69-1.445.hdf5\n",
      "2582/2582 [==============================] - 1s 457us/sample - loss: 1.2111 - accuracy: 0.9167 - val_loss: 1.4452 - val_accuracy: 0.8206\n",
      "Epoch 70/100\n",
      "2432/2582 [===========================>..] - ETA: 0s - loss: 1.1863 - accuracy: 0.9149\n",
      "Epoch 00070: val_loss improved from 1.44515 to 1.43743, saving model to models/70-1.437.hdf5\n",
      "2582/2582 [==============================] - 1s 467us/sample - loss: 1.1903 - accuracy: 0.9132 - val_loss: 1.4374 - val_accuracy: 0.8187\n",
      "Epoch 71/100\n",
      "2432/2582 [===========================>..] - ETA: 0s - loss: 1.1641 - accuracy: 0.9313\n",
      "Epoch 00071: val_loss improved from 1.43743 to 1.42931, saving model to models/71-1.429.hdf5\n",
      "2582/2582 [==============================] - 1s 458us/sample - loss: 1.1616 - accuracy: 0.9326 - val_loss: 1.4293 - val_accuracy: 0.8206\n",
      "Epoch 72/100\n",
      "2560/2582 [============================>.] - ETA: 0s - loss: 1.1471 - accuracy: 0.9254\n",
      "Epoch 00072: val_loss did not improve from 1.42931\n",
      "2582/2582 [==============================] - 1s 464us/sample - loss: 1.1481 - accuracy: 0.9249 - val_loss: 1.4304 - val_accuracy: 0.8201\n",
      "Epoch 73/100\n",
      "2432/2582 [===========================>..] - ETA: 0s - loss: 1.1526 - accuracy: 0.9219\n",
      "Epoch 00073: val_loss improved from 1.42931 to 1.41342, saving model to models/73-1.413.hdf5\n",
      "2582/2582 [==============================] - 1s 473us/sample - loss: 1.1512 - accuracy: 0.9218 - val_loss: 1.4134 - val_accuracy: 0.8211\n",
      "Epoch 74/100\n",
      "2432/2582 [===========================>..] - ETA: 0s - loss: 1.1253 - accuracy: 0.9190\n",
      "Epoch 00074: val_loss improved from 1.41342 to 1.39751, saving model to models/74-1.398.hdf5\n",
      "2582/2582 [==============================] - 1s 478us/sample - loss: 1.1224 - accuracy: 0.9202 - val_loss: 1.3975 - val_accuracy: 0.8234\n",
      "Epoch 75/100\n",
      "2432/2582 [===========================>..] - ETA: 0s - loss: 1.1045 - accuracy: 0.9272\n",
      "Epoch 00075: val_loss did not improve from 1.39751\n",
      "2582/2582 [==============================] - 1s 458us/sample - loss: 1.1096 - accuracy: 0.9249 - val_loss: 1.4283 - val_accuracy: 0.8192\n",
      "Epoch 76/100\n",
      "2432/2582 [===========================>..] - ETA: 0s - loss: 1.0702 - accuracy: 0.9391\n",
      "Epoch 00076: val_loss did not improve from 1.39751\n",
      "2582/2582 [==============================] - 1s 443us/sample - loss: 1.0715 - accuracy: 0.9369 - val_loss: 1.4302 - val_accuracy: 0.8075\n",
      "Epoch 77/100\n",
      "2432/2582 [===========================>..] - ETA: 0s - loss: 1.0655 - accuracy: 0.9334\n",
      "Epoch 00077: val_loss improved from 1.39751 to 1.37506, saving model to models/77-1.375.hdf5\n",
      "2582/2582 [==============================] - 1s 478us/sample - loss: 1.0698 - accuracy: 0.9326 - val_loss: 1.3751 - val_accuracy: 0.8206\n"
     ]
    },
    {
     "name": "stdout",
     "output_type": "stream",
     "text": [
      "Epoch 78/100\n",
      "2560/2582 [============================>.] - ETA: 0s - loss: 1.0780 - accuracy: 0.9266\n",
      "Epoch 00078: val_loss did not improve from 1.37506\n",
      "2582/2582 [==============================] - 1s 461us/sample - loss: 1.0775 - accuracy: 0.9264 - val_loss: 1.4089 - val_accuracy: 0.8052\n",
      "Epoch 79/100\n",
      "2432/2582 [===========================>..] - ETA: 0s - loss: 1.0395 - accuracy: 0.9375\n",
      "Epoch 00079: val_loss did not improve from 1.37506\n",
      "2582/2582 [==============================] - 1s 453us/sample - loss: 1.0388 - accuracy: 0.9376 - val_loss: 1.3773 - val_accuracy: 0.8117\n",
      "Epoch 80/100\n",
      "2432/2582 [===========================>..] - ETA: 0s - loss: 1.0293 - accuracy: 0.9367\n",
      "Epoch 00080: val_loss improved from 1.37506 to 1.35043, saving model to models/80-1.350.hdf5\n",
      "2582/2582 [==============================] - 1s 482us/sample - loss: 1.0304 - accuracy: 0.9365 - val_loss: 1.3504 - val_accuracy: 0.8159\n",
      "Epoch 81/100\n",
      "2560/2582 [============================>.] - ETA: 0s - loss: 1.0072 - accuracy: 0.9367\n",
      "Epoch 00081: val_loss improved from 1.35043 to 1.34539, saving model to models/81-1.345.hdf5\n",
      "2582/2582 [==============================] - 1s 498us/sample - loss: 1.0074 - accuracy: 0.9365 - val_loss: 1.3454 - val_accuracy: 0.8169\n",
      "Epoch 82/100\n",
      "2432/2582 [===========================>..] - ETA: 0s - loss: 1.0027 - accuracy: 0.9354\n",
      "Epoch 00082: val_loss improved from 1.34539 to 1.33154, saving model to models/82-1.332.hdf5\n",
      "2582/2582 [==============================] - 1s 458us/sample - loss: 1.0011 - accuracy: 0.9349 - val_loss: 1.3315 - val_accuracy: 0.8220\n",
      "Epoch 83/100\n",
      "2432/2582 [===========================>..] - ETA: 0s - loss: 0.9964 - accuracy: 0.9379\n",
      "Epoch 00083: val_loss did not improve from 1.33154\n",
      "2582/2582 [==============================] - 1s 459us/sample - loss: 0.9937 - accuracy: 0.9388 - val_loss: 1.3324 - val_accuracy: 0.8211\n",
      "Epoch 84/100\n",
      "2432/2582 [===========================>..] - ETA: 0s - loss: 0.9541 - accuracy: 0.9502\n",
      "Epoch 00084: val_loss improved from 1.33154 to 1.31311, saving model to models/84-1.313.hdf5\n",
      "2582/2582 [==============================] - 1s 464us/sample - loss: 0.9543 - accuracy: 0.9493 - val_loss: 1.3131 - val_accuracy: 0.8290\n",
      "Epoch 85/100\n",
      "2432/2582 [===========================>..] - ETA: 0s - loss: 0.9543 - accuracy: 0.9486\n",
      "Epoch 00085: val_loss improved from 1.31311 to 1.30962, saving model to models/85-1.310.hdf5\n",
      "2582/2582 [==============================] - 1s 462us/sample - loss: 0.9591 - accuracy: 0.9458 - val_loss: 1.3096 - val_accuracy: 0.8225\n",
      "Epoch 86/100\n",
      "2432/2582 [===========================>..] - ETA: 0s - loss: 0.9540 - accuracy: 0.9453\n",
      "Epoch 00086: val_loss improved from 1.30962 to 1.28982, saving model to models/86-1.290.hdf5\n",
      "2582/2582 [==============================] - 1s 461us/sample - loss: 0.9581 - accuracy: 0.9450 - val_loss: 1.2898 - val_accuracy: 0.8276\n",
      "Epoch 87/100\n",
      "2432/2582 [===========================>..] - ETA: 0s - loss: 0.9216 - accuracy: 0.9502\n",
      "Epoch 00087: val_loss did not improve from 1.28982\n",
      "2582/2582 [==============================] - 1s 440us/sample - loss: 0.9200 - accuracy: 0.9508 - val_loss: 1.2913 - val_accuracy: 0.8276\n",
      "Epoch 88/100\n",
      "2432/2582 [===========================>..] - ETA: 0s - loss: 0.9180 - accuracy: 0.9486\n",
      "Epoch 00088: val_loss did not improve from 1.28982\n",
      "2582/2582 [==============================] - 1s 446us/sample - loss: 0.9190 - accuracy: 0.9469 - val_loss: 1.2997 - val_accuracy: 0.8127\n",
      "Epoch 89/100\n",
      "2432/2582 [===========================>..] - ETA: 0s - loss: 0.9116 - accuracy: 0.9515\n",
      "Epoch 00089: val_loss improved from 1.28982 to 1.28848, saving model to models/89-1.288.hdf5\n",
      "2582/2582 [==============================] - 1s 503us/sample - loss: 0.9084 - accuracy: 0.9524 - val_loss: 1.2885 - val_accuracy: 0.8089\n",
      "Epoch 90/100\n",
      "2432/2582 [===========================>..] - ETA: 0s - loss: 0.8922 - accuracy: 0.9490\n",
      "Epoch 00090: val_loss improved from 1.28848 to 1.27698, saving model to models/90-1.277.hdf5\n",
      "2582/2582 [==============================] - 1s 466us/sample - loss: 0.8905 - accuracy: 0.9489 - val_loss: 1.2770 - val_accuracy: 0.8197\n",
      "Epoch 91/100\n",
      "2432/2582 [===========================>..] - ETA: 0s - loss: 0.8791 - accuracy: 0.9523\n",
      "Epoch 00091: val_loss improved from 1.27698 to 1.25102, saving model to models/91-1.251.hdf5\n",
      "2582/2582 [==============================] - 1s 485us/sample - loss: 0.8776 - accuracy: 0.9531 - val_loss: 1.2510 - val_accuracy: 0.8299\n",
      "Epoch 92/100\n",
      "2432/2582 [===========================>..] - ETA: 0s - loss: 0.8789 - accuracy: 0.9498\n",
      "Epoch 00092: val_loss improved from 1.25102 to 1.24218, saving model to models/92-1.242.hdf5\n",
      "2582/2582 [==============================] - 1s 487us/sample - loss: 0.8782 - accuracy: 0.9504 - val_loss: 1.2422 - val_accuracy: 0.8318\n",
      "Epoch 93/100\n",
      "2432/2582 [===========================>..] - ETA: 0s - loss: 0.8539 - accuracy: 0.9589\n",
      "Epoch 00093: val_loss improved from 1.24218 to 1.23485, saving model to models/93-1.235.hdf5\n",
      "2582/2582 [==============================] - 1s 460us/sample - loss: 0.8540 - accuracy: 0.9582 - val_loss: 1.2348 - val_accuracy: 0.8285\n",
      "Epoch 94/100\n",
      "2432/2582 [===========================>..] - ETA: 0s - loss: 0.8490 - accuracy: 0.9548\n",
      "Epoch 00094: val_loss improved from 1.23485 to 1.21704, saving model to models/94-1.217.hdf5\n",
      "2582/2582 [==============================] - 1s 475us/sample - loss: 0.8465 - accuracy: 0.9551 - val_loss: 1.2170 - val_accuracy: 0.8369\n",
      "Epoch 95/100\n",
      "2432/2582 [===========================>..] - ETA: 0s - loss: 0.8193 - accuracy: 0.9638\n",
      "Epoch 00095: val_loss did not improve from 1.21704\n",
      "2582/2582 [==============================] - 1s 441us/sample - loss: 0.8200 - accuracy: 0.9632 - val_loss: 1.2179 - val_accuracy: 0.8308\n",
      "Epoch 96/100\n",
      "2432/2582 [===========================>..] - ETA: 0s - loss: 0.8225 - accuracy: 0.9515\n",
      "Epoch 00096: val_loss did not improve from 1.21704\n",
      "2582/2582 [==============================] - 1s 441us/sample - loss: 0.8211 - accuracy: 0.9520 - val_loss: 1.2342 - val_accuracy: 0.8397\n",
      "Epoch 97/100\n",
      "2432/2582 [===========================>..] - ETA: 0s - loss: 0.8144 - accuracy: 0.9519\n",
      "Epoch 00097: val_loss improved from 1.21704 to 1.19920, saving model to models/97-1.199.hdf5\n",
      "2582/2582 [==============================] - 1s 459us/sample - loss: 0.8145 - accuracy: 0.9516 - val_loss: 1.1992 - val_accuracy: 0.8327\n",
      "Epoch 98/100\n",
      "2432/2582 [===========================>..] - ETA: 0s - loss: 0.7797 - accuracy: 0.9659\n",
      "Epoch 00098: val_loss did not improve from 1.19920\n",
      "2582/2582 [==============================] - 1s 454us/sample - loss: 0.7799 - accuracy: 0.9663 - val_loss: 1.2153 - val_accuracy: 0.8308\n",
      "Epoch 99/100\n",
      "2432/2582 [===========================>..] - ETA: 0s - loss: 0.7775 - accuracy: 0.9622\n",
      "Epoch 00099: val_loss improved from 1.19920 to 1.19252, saving model to models/99-1.193.hdf5\n",
      "2582/2582 [==============================] - 1s 474us/sample - loss: 0.7777 - accuracy: 0.9620 - val_loss: 1.1925 - val_accuracy: 0.8322\n",
      "Epoch 100/100\n",
      "2432/2582 [===========================>..] - ETA: 0s - loss: 0.7750 - accuracy: 0.9613\n",
      "Epoch 00100: val_loss did not improve from 1.19252\n",
      "2582/2582 [==============================] - 1s 438us/sample - loss: 0.7746 - accuracy: 0.9617 - val_loss: 1.2093 - val_accuracy: 0.8350\n"
     ]
    }
   ],
   "source": [
    "hist = model.fit(x=x_training, y=y_training_encoded, batch_size=128, epochs=100, verbose=1, callbacks=[checkpoint],\n",
    "     validation_data=(x_testing, y_testing_encoded), shuffle=True, initial_epoch=0, class_weight=class_weight)"
   ]
  },
  {
   "cell_type": "code",
   "execution_count": 59,
   "metadata": {},
   "outputs": [
    {
     "ename": "NameError",
     "evalue": "name 'hist' is not defined",
     "output_type": "error",
     "traceback": [
      "\u001b[1;31m---------------------------------------------------------------------------\u001b[0m",
      "\u001b[1;31mNameError\u001b[0m                                 Traceback (most recent call last)",
      "\u001b[1;32m<ipython-input-59-86b0f246a4be>\u001b[0m in \u001b[0;36m<module>\u001b[1;34m\u001b[0m\n\u001b[1;32m----> 1\u001b[1;33m \u001b[0mprint\u001b[0m\u001b[1;33m(\u001b[0m\u001b[0mhist\u001b[0m\u001b[1;33m.\u001b[0m\u001b[0mhistory\u001b[0m\u001b[1;33m.\u001b[0m\u001b[0mkeys\u001b[0m\u001b[1;33m(\u001b[0m\u001b[1;33m)\u001b[0m\u001b[1;33m)\u001b[0m\u001b[1;33m\u001b[0m\u001b[1;33m\u001b[0m\u001b[0m\n\u001b[0m\u001b[0;32m      2\u001b[0m \u001b[1;31m# summarize history for accuracy\u001b[0m\u001b[1;33m\u001b[0m\u001b[1;33m\u001b[0m\u001b[1;33m\u001b[0m\u001b[0m\n\u001b[0;32m      3\u001b[0m \u001b[0mplt\u001b[0m\u001b[1;33m.\u001b[0m\u001b[0mplot\u001b[0m\u001b[1;33m(\u001b[0m\u001b[0mhist\u001b[0m\u001b[1;33m.\u001b[0m\u001b[0mhistory\u001b[0m\u001b[1;33m[\u001b[0m\u001b[1;34m'accuracy'\u001b[0m\u001b[1;33m]\u001b[0m\u001b[1;33m)\u001b[0m\u001b[1;33m\u001b[0m\u001b[1;33m\u001b[0m\u001b[0m\n\u001b[0;32m      4\u001b[0m \u001b[0mplt\u001b[0m\u001b[1;33m.\u001b[0m\u001b[0mplot\u001b[0m\u001b[1;33m(\u001b[0m\u001b[0mhist\u001b[0m\u001b[1;33m.\u001b[0m\u001b[0mhistory\u001b[0m\u001b[1;33m[\u001b[0m\u001b[1;34m'val_accuracy'\u001b[0m\u001b[1;33m]\u001b[0m\u001b[1;33m)\u001b[0m\u001b[1;33m\u001b[0m\u001b[1;33m\u001b[0m\u001b[0m\n\u001b[0;32m      5\u001b[0m \u001b[0mplt\u001b[0m\u001b[1;33m.\u001b[0m\u001b[0mtitle\u001b[0m\u001b[1;33m(\u001b[0m\u001b[1;34m'model accuracy'\u001b[0m\u001b[1;33m)\u001b[0m\u001b[1;33m\u001b[0m\u001b[1;33m\u001b[0m\u001b[0m\n",
      "\u001b[1;31mNameError\u001b[0m: name 'hist' is not defined"
     ]
    }
   ],
   "source": [
    "print(hist.history.keys())\n",
    "# summarize history for accuracy\n",
    "plt.plot(hist.history['accuracy'])\n",
    "plt.plot(hist.history['val_accuracy'])\n",
    "plt.title('model accuracy')\n",
    "plt.ylabel('accuracy')\n",
    "plt.xlabel('epoch')\n",
    "plt.legend(['train', 'test'], loc='upper left')\n",
    "# plt.show()\n",
    "plt.savefig('accuracy.jpg')\n",
    "plt.close()\n",
    "# summarize history for loss\n",
    "plt.plot(hist.history['loss'])\n",
    "plt.plot(hist.history['val_loss'])\n",
    "plt.title('model loss')\n",
    "plt.ylabel('loss')\n",
    "plt.xlabel('epoch')\n",
    "plt.legend(['train', 'test'], loc='upper left')\n",
    "# plt.show()\n",
    "plt.savefig('loss.jpg')\n",
    "plt.close()\n"
   ]
  },
  {
   "cell_type": "markdown",
   "metadata": {},
   "source": [
    "## saveing model weights"
   ]
  },
  {
   "cell_type": "code",
   "execution_count": 60,
   "metadata": {},
   "outputs": [],
   "source": [
    "model.save_weights('best_model.h5')"
   ]
  },
  {
   "cell_type": "code",
   "execution_count": null,
   "metadata": {},
   "outputs": [],
   "source": []
  },
  {
   "cell_type": "code",
   "execution_count": 106,
   "metadata": {},
   "outputs": [
    {
     "name": "stdout",
     "output_type": "stream",
     "text": [
      "\r",
      "2582/1 [====================================================================================================================================================================================================================================================================================================================================================================================================================================================================================================================================================================================================================================================================================================================================================================================================================================================================================================================================================================================================================================================================================================================================================================================================================================================================================================================================================================================================================================================================================================================================================================================================================================================================================================================================================================================================================================================================================================================================================================================================================================================================================================================================================================================================================================================================================================================================================================================================================================================================================================================================================================================================================================================================================================================================================================================================================================================================================================================================================================================================================================================================================================================================================================================================================================================================================================================================================================================================================================================================================================================================================================================================================================================================================================================================================================================================================================================================================================================================================================================================================================================================================================================================================================================================================================================================================================================================================================================================================================================================================================================================================================================================================================================================================================================================================================================================================================================================================================================================================================================================================================================================================================================================================================================================================================================================================================================================================================================================================================================================================================================================================================================================================================================================================================================================================================================================================================================================================================================================================================================================================================================================================================================================================================================================================================================================================================================================================================================================================================================================================================================================================================================================================================================================================================================================================================================================================================================================================================================================================================================================================================================================================================================================================================================================================================================================================================================================================================================================================================================================================================================================================================================================================================================================================================================================================================================================================================================================================================================================================================================================================================================================================================================================================================================================================================================================================================================================================================================================================================================================================================================================================================================================================================================================================================================================================================================================================================================================================================================================================================================================================================================================================================================================================================================================================================================================================================================================================================================================================================================================================================================================================================================================================================================================================================================================================================================================================================================================================================================================================================================================================================================================================================================================================================================================================================================================================================================================================================================================================================================================================================================================================================================================================================================================================================================================================================================================================================================================================================================================================================================================================================================================================================================================================================================================================================================================================================================================================================================================================================================================================================================================================================================================================================================================================================================================================================================================================================================================================================================================================================================================================================================================================================================================================================================================================================================================================================================================================================================================================================================================================================================================================================================================================================================================================================================================================================================================================================================================================================================================================================================================================================================================================================================================================================================================================================================================================================================================================================================================================================================================================================================================================================================================================================================================================================================================================================================================================================================================================================================================================================================================================================================================================================================================================================================================================================================================================================================================================================================================================================================================================================================================================================================================================================================================================================================================================================================================================================================================================================================================================================================================================================================================================================================================================================================================================================================================================================================================================================================================================================================================================================================================================================================================================================================================================================================================================================================================================================================================================================================================================================================================================================================================================================================================================================================================================================================================================================================================================================================================================================================================================================================================================================================================================================================================================================================================================================================================================================================================================================================================================================================================================================================================================================================================================================================================================================================================================================================================================================================================================================================================================================================================================================================================================================================================================================================================================================================================================================================================================================================================================================================================================================================================================================================================================================================================================================================================================================================================================================================================================================================================================================================================================================================================================================================================================================================================================================================================================================================================================================================================================================================================================================================================================================================================================================================================================================================================================================================================================================================================================================================================================================================================================================================================================================================================================================================================================================================================================================================================================================================================================================================================================================================================================================================================================================================================================================================================================================================================================================================================================================================================================================================================================================================================================================================================================================================================================================================================================================================================================================================================================================================================================================================================================================================================================================================================================================================================================================================================================================================================================================================================================================================================================================================================================================================================================================================================================================================================================================================================================================================================================================================================================================================================================================================================================================================================================================================================================================================================================================================================================================================================================================================================================================================================================================================================================================================================================================================================================================================================================================================================================================================================================================================================================================================================================================================================================================================================================================================================================================================================================================================================================================================================================================================================================================================================================================================================================================================================================================================================================================================================================================================================================================================================================================================================================================================================================================================================================================================================================================================================================================================================================================================================================================================================================================================================================================================================================================================================================================================================================================================================================================================================================================================================================================================================================================================================================================================================================================================================================================================================================================================================================================================================================================================================================================================================================================================================================================================================================================================================================================================================================================================================================================================================================================================================================================================================================================================================================================================================================================================================================================================================================================================================================================================================================================================================================================================================================================================================================================================================================================================================================================================================================================================================================================================================================================================================================================================================================================================================================================================================================================================================================================================================================================================================================================================================================================================================================================================================================================================================================================================================================================================================================================================================================================================================================================================================================================================================================================================================================================================================================================================================================================================================================================================================================================================================================================================================================================================================================================================================================================================================================================================================================================================================================================================================================================================================================================================================================================================================================================================================================================================================================================================================================================================================================================================================================================================================================================================================================================================================================================================================================================================================================================================================================================================================================================================================================================================================================================================================================================================================================================================================================================================================================================================================================================================================================================================================================================================================================================================================================================================================================================================================================================================================================================================================================================================================================================================================================================================================================================================================================================================================================================================================================================================================================================================================================================================================================================================================================================================================================================================================================================================================================================================================================================================================================================================================================================================================================================================================================================================================================================================================================================================================================================================================================================================================================================================================================================================================================================================================================================================================================================================================================================================================================================================================================================================================================================================================================================================================================================================================================================================================================================================================================================================================================================================================================================================================================================================================================================================================================================================================================================================================================================================================================================================================================================================================================================================================================================================================================================================================================================================================================================================================================================================================================================================================================================================================================================================================================================================================================================================================================================================================================================================================================================================================================================================================================================================================================================================================================================================================================================================================================================================================================================================================================================================================================================================================================================================================================================================================================================================================================================================================================================================================================================================================================================================================================================================================================================================================================================================================================================================================================================================================================================================================================================================================================================================================================================================================================================================================================================================================================================================================================================================================================================================================================================================================================================================================================================================================================================================================================================================================================================================================================================================================================================================================================================================================================================================================================================================================================================================================================================================================================================================================================================================================================================================================================================================================================================================================================================================================================================================================================================================================================================================================================================================================================================================================================================================================================================================================================================================================================================================================================================================================================================================================================================================================================================================================================================================================================================================================================================================================================================================================================================================================================================================================================================================================================================================================================================================================================================================================================================================================================================================================================================================================================================================================================================================================================================================================================================================================================================================================================================================================================================================================================================================================================================================================================================================================================================================================================================================================================================================================================================================================================================================================================================================================================================================================================================================================================================================================================================================================================================================================================================================================================================================================================================================================================================================================================================================================================================================================================================================================================================================================================================================================================================================================================================================================================================================================================================================================================================================================================================================================================================================================================================================================================================================================================================================================================================================================================================================================================================================================================================================================================================================================================================================================================================================================================================================================================================================================================================================================================================================================================================================================================================================================================================================================================================================================================================================================================================================================================================================================================================================================================================================================================================================================================================================================================================================================================================================================================================================================================================================================================================================================================================================================================================================================================================================================================================================================================================================================================================================================================================================================================================================================================================================================================================================================================================================================================================================================================================================================================================================================================================================================================================================================================================================================================================================================================================================================================================================================================================================================================================================================================================================================================================================================================================================================================================================================================================================================================================================================================================================================================================================================================================================================================================================================================================================================================================================================================================================================================================================================================================================================================================================================================================================================================================================================================================================================================================================================================================================================================================================================================================================================================================================================================================================================================================================================================================================================================================================================================================================================================================================================================================================================================================================================================================================================================================================================================================================================================================================================================================================================================================================================================================================================================================================================================================================================================================================================================================================================================================================================================================================================================================================================================================================================================================================================================================================================================================================================================================================================================================================================================================================================================================================================================================================================================================================================================================================================================================================================================================================================================================================================================================================================================================================================================================================================================================================================================================================================================================================================================================================================================================================================================================================================================================================================================================================================================================================================================================================================================================================================================================================================================================================================================================================================================================================================================================================================================================================================================================================================================================================================================================================================================================================================================================================================================================================================================================================================================================================================================================================================================================================================================================================================================================================================================================================================================================================================================================================================================================================================================================================================================================================================================================================================================================================================================================================================================================================================================================================================================================================================================================================================================================================================================================================================================================================================================================================================================================================================================================================================================================================================================================================================================================================================================================================================================================================================================================================================================================================================================================================================================================================================================================================================================================================================================================================================================================================================================================================================================================================================================================================================================================================================================================================================================================================================================================================================================================================================================================================================================================================================================================================================================================================================================================================================================================================================================================================================================================================================================================================================================================================================================================================================================================================================================================================================================================================================================================================================================================================================================================================================================================================================================================================================================================================================================================================================================================================================================================================================================================================================================================================================================================================================================================================================================================================================================================================================================================================================================================================================================================================================================================================================================================================================================================================================================================================================================================================================================================================================================================================================================================================================================================================================================================================================================================================================================================================================================================================================================================================================================================================================================================================================================================================================================================================================================================================================================================================================================================================================================================================================================================================================================================================================================================================================================================================================================================================================================================================================================================================================================================================================================================================================================================================================================================================================================================================================================================================================================================================================================================================================================================================================================================================================================================================================================================================================================================================================================================================================================================================================================================================================================================================================================================================================================================================================================================================================================================================================================================================================================================================================================================================================================================================================================================================================================================================================================================================================================================================================================================================================================================================================================================================================================================================================================================================================================================================================================================================================================================================================================================================================================================================================================================================================================================================================================================================================================================================================================================================================================================================================================================================================================================================================================================================================================================================================================================================================================================================================================================================================================================================================================================================================================================================================================================================================================================================================================================================================================================================================================================================================================================================================================================================================================================================================================================================================================================================================================================================================================================================================================================================================================================================================================================================================================================================================================================================================================================================================================================================================================================================================================================================================================================================================================================================================================================================================================================================================================================================================================================================================================================================================================================================================================================================================================================================================================================================================================================================================================================================================================================================================================================================================================================================================================================================================================================================================================================================================================================================================================================================================================================================================================================================================================================================================================================================================================================================================================================================================================================================================================================================================================================================================================================================================================================================================================================================================================================================================================================================================================================================================================================================================================================================================================================================================================================================================================================================================================================================================================================================================================================================================================================================================================================================================================================================================================================================================================================================================================================================================================================================================================================================================================================================================================================================================================================================================================================================================================================================================================================================================================================================================================================================================================================================================================================================================================================================================================================================================================================================================================================================================================================================================================================================================================================================================================================================================================================================================================================================================================================================================================================================================================================================================================================================================================================================================================================================================================================================================================================================================================================================================================================================================================================================================================================================================================================================================================================================================================================================================================================================================================================================================================================================================================================================================================================================================================================================================================================================================================================================================================================================================================================================================================================================================================================================================================================================================================================================================================================================================================================================================================================================================================================================================================================================================================================================================================================================================================================================================================================================================================================================================================================================================================================================================================================================================================================================================================================================================================================================================================================================================================================================================================================================================================================================================================================================================================================================================================================================================================================================================================================================================================================================================================================================================================================================================================================================================================================================================================================================================================================================================================================================================================================================================================================================================================================================================================================================================================================================================================================================================================================================================================================================================================================================================================================================================================================================================================================================================================================================================================================================================================================================================================================================================================================================================================================================================================================================================================================================================================================================================================================================================================================================================================================================================================================================================================================================================================================================================================================================================================================================================================================================================================================================================================================================================================================================================================================================================================================================================================================================================================================================================================================================================================================================================================================================================================================================================================================================================================================================================================================================================================================================================================================================================================================================================================================================================================================================================================================================================================================================================================================================================================================================================================================================================================================================================================================================================================================================================================================================================================================================================================================================================================================================================================================================================================================================================================================================================================================================================================================================================================================================================================================================================================================================================================================================================================================================================================================================================================================================================================================================================================================================================================================================================================================================================================================================================================================================================================================================================================================================================================================================================================================================================================================================================================================================================================================================================================================================================================================================================================================================================================================================================================================================================================================================================================================================================================================================================================================================================================================================================================================================================================================================================================================================================================================================================================================================================================================================================================================================================================================================================================================================================================================================================================================================================================================================================================================================================================================================================================================================================================================================================================================================================================================================================================================================================================================================================================] - 0s 183us/sample - loss: 2.5239 - accuracy: 0.9295\n"
     ]
    },
    {
     "data": {
      "text/plain": [
       "[2.5597233811060094, 0.929512]"
      ]
     },
     "execution_count": 106,
     "metadata": {},
     "output_type": "execute_result"
    }
   ],
   "source": [
    "model.evaluate(x = x_training, y = y_training_encoded)"
   ]
  },
  {
   "cell_type": "code",
   "execution_count": 117,
   "metadata": {},
   "outputs": [
    {
     "name": "stdout",
     "output_type": "stream",
     "text": [
      "\r",
      "2146/1 [============================================================================================================================================================================================================================================================================================================================================================================================================================================================================================================================================================================================================================================================================================================================================================================================================================================================================================================================================================================================================================================================================================================================================================================================================================================================================================================================================================================================================================================================================================================================================================================================================================================================================================================================================================================================================================================================================================================================================================================================================================================================================================================================================================================================================================================================================================================================================================================================================================================================================================================================================================================================================================================================================================================================================================================================================================================================================================================================================================================================================================================================================================================================================================================================================================================================================================================================================================================================================================================================================================================================================================================================================================================================================================================================================================================================================================================================================================================================================================================================================================================================================================================================================================================================================================================================================================================================================================================================================================================================================================================================================================================================================================================================================================================================================================================================================================================================================================================================================================================================================================================================================================================================================================================================================================================================================================================================================================================================================================================================================================================================================================================================================================================================================================================================================================================================================================================================================================================================================================================================================================================================================================================================================================================================================================================================================================================================================================================================================================================================================================================================================================================================================================================================================================================================================================================================================================================================================================================================================================================================================================================================================================================================================================================================================================================================================================================================================================================================================================================================================================================================================================================================================================================================================================================================================================================================================================================================================================================================================================================================================================================================================================================================================================================================================================================================================================================================================================================================================================================================================================================================================================================================================================================================================================================================================================================================================================================================================================================================================================================================================================================================================================================================================================================================================================================================================================================================================================================================================================================================================================================================================================================================================================================================================================================================================================================================================================================================================================================================================================================================================================================================================================================================================================================================================================================================================================================================================================================================================================================================================================================================================================================================================================================================================================================================================================================================================================================================================================================================================================================================================================================================================================================================================================================================================================================================================================================================================================================================================================================================================================================================================================================================================================================================================================================================================================================================================================================================================================================================================================================================================================================================================================================================================================================================================================================================================================================================================================================================================================================================================================================================================================================================================================================================================================================================================================================================================================================================================================================================================================================================================================================================================================================================================================================================================================================================================================================================================================================================================================================================================================================================================================================================================================================================================================================================================================================================================================================================================================================================================================================================================================================================================================================================================================================================================================================================================================================================================================================================================================================================================================================================================================================================================================================================================================================================================================================================================================================================================================================================================================================================================================================================================================================================================================================================================================================================================================================================================================================================================================================================================================================================================================================================================================================================================================================================================================================================================================================================================================================================================================================================================================================================================================================================================================================================================================================================================================================================================================================================================================================================================================================================================================================================================================================================================================================================================================================================================================================================================================================================================================================================================================================================================================================================================================================================================================================================================================================================================================================================================================================================================================================================================================================================================================================================================================================================================================================================================================================================================================================================================================================================================================================================================================================================================================================================================================================================================================================================================================================================================================================================================================================================================================================================================================================================================================================================================================================================================================================================================================================================================================================================================================================================================================================================================================================================================================================================================================================================================================================================================================================================================================================================================================================================================================================================================================================================================================================================================================================================================================================================================================================================================================================================================================================================================================================================================================================================================================================================================================================================================================================================================================================================================================================================================================================================================================================================================================================================================================================================================================================================================================================================================================================================================================================================================================================================================================================================================================================================================================================================================================================================================================================================================================================================================================================================================================================================================================================================================================================================================================================================================================================================================================================================================================================================================================================================================================================================================================================================================================================================================================================================================================================================================================================================================================================================================================================================================================================================================================================================================================================================================================================================================================================================================================================================================================================================================================================================================================================================================================================================================================================================================================================================================================================================================================================================================================================================================================================================================================================================================================================================================================================================================================================================================================================================================================================================================================================================================================================================================================================================================================================================================================================================================================================================================================================================================================================================================================================================================================================================================================================================================================================================================================================================================================================================================================================================================================================================================================================================================================================================================================================================================================================================================================================================================================================================================================================================================================================================================================================================================================================================================================================================================================================================================================================================================================================================================================================================================================================================================================================================================================================================================================================================================================================================================================================================================================================================================================================================================================================================================================================================================================================================================================================================================================================================================================================================================================================================================================================================================================================================================================================================================================================================================================================================================================================================================================================================================================================================================================================================================================================================================================================================================================================================================================================================================================================================================================================================================================================================================================================================================================================================================================================================================================================================================================================================================================================================================================================================================================================================================================================================================================================================================================================================================================================================================================================================================================================================================================================================================================================================================================================================================================================================================================================================================================================================================================================================================================================================================================================================================================================================================================================================================================================================================================================================================================================================================================================================================================================================================================================================================================================================================================================================================================================================================================================================================================================================================================================================================================================================================================================================================================================================================================================================================================================================================================================================================================================================================================================================================================================================================================================================================================================================================================================================================================================================================================================================================================================================================================================================================================================================================================================================================================================================================================================================================================================================================================================================================================================================================================================================================================================================================================================================================================================================================================================================================================================================================================================================================================================================================================================================================================================================================================================================================================================================================================================================================================================================================================================================================================================================================================================================================================================================================================================================================================================================================================================================================================================================================================================================================================================================================================================================================================================================================================================================================================================================================================================================================================================================================================================================================================================================================================================================================================================================================================================================================================================================================================================================================================================================================================================================================================================================================================================================================================================================================================================================================================================================================================================================================================================================================================================================================================================================================================================================================================================================================================================================================================================================================================================================================================================================================================================================================================================================================================================================================================================================================================================================================================================================================================================================================================================================================================================================================================================================================================================================================================================================================================================================================================================================================================================================================================================================================================================================================================================================================================================================================================================================================================================================================================================================================================================================================================================================================================================================================================================================================================================================================================================================================================================================================================================================================================================================================================================================================================================================================================================================================================================================================================================================================================================================================================================================================================================================================================================================================================================================================================================================================================================================================================================================================================================================================================================================================================================================================================================================================================================================================================================================================================================================================================================================================================================================================================================================================================================================================================================================================================================================================================================================================================================================================================================================================================================================================================================================================================================================================================================================================================================================================================================================================================================================================================================================================================================================================================================================================================================================================================================================================================================================================================================================================================================================================================================================================================================================================================================================================================================================================================================================================================================================================================================================================================================================================================================================================================================================================================================================================================================================================================================================================================================================================================================================================================================================================================================================================================================================================================================================================================================================================================================================================================================================================================================================================================================================================================================================================================================================================================================================================================================================================================================================================================================================================================================================================================================================================================================================================================================================================================================================================================================================================================================================================================================================================================================================================================================================================================================================================================================================================================================================================================================================================================================================================================================================================================================================================================================================================================================================================================================================================================================================================================================================================================================================================================================================================================================================================================================================================================================================================================================================================================================================================================================================================================================================================================================================================================================================================================================================================================================================================================================================================================================================================================================================================================================================================================================================================================================================================================================================================================================================================================================================================================================================================================================================================================================================================================================================================================================================================================================================================================================================================================================================================================================================================================================================================================================================================================================================================================================================================================================================================================================================================================================================================================================================================================================================================================================================================================================================================================================================================================================================================================================================================================================================================================================================================================================================================================================================================================================================================================================================================================================================================================================================================================================================================================================================================================================================================================================================================================================================================================================================================================================================================================================================================================================================================================================================================================================================================================================================================================================================================================================================================================================================================================================================================================================================================================================================================================================================================================================================================================================================================================================================================================================================================================================================================================================================================================================================================================================================================================================================================================================================================================================================================================================================================================================================================================================================================================================================================================================================================================================================================================================================================================================================================================================================================================================================================================================================================================================================================================================================================================================================================================================================================================================================================================================================================================================================================================================================================================================================================================================================================================================================================================================================================================================================================================================================================================================================================================================================================================================================================================================================================================================================================================================================================================================================================================================================================================================================================================================================================================================================================================================================================================================================================================================================================================================================================================================================================================================================================================================================================================================================================================================================================================================================================================================================================================================================================================================================================================================================================================================================================================================================================================================================================================================================================================================================================================================================================================================================================================================================================================================================================================================================================================================================================================================================================================================================================================================================================================================================================================================================================================================================================================================================================================================================================================================================================================================================================================================================================================================================================================================================================================================================================================================================================================================================================================================================================================================================================================================================================================================================================================================================================================================================================================================================================================================================================================================================================================================================================================================================================================================================================================================================================================================================================================================================================================================================================================================================================================================================================================================================================================================================================================================================================================================================================================================================================================================================================================================================================================================================================================================================================================================================================================================================================================================================================================================================================================================================================================================================================================================================================================================================================================================================================================================================================================================================================================================================================================================================================================================================================================================================================================================================================================================================================================================================================================================================================================================================================================================================================================================================================================================================================================================================================================================================================================================================================================================================================================================================================================================================================================================================================================================================================================================================================================================================================================================================================================================================================================================================================================================================================================================================================================================================================================================================================================================================================================================================================================================================================================================================================================================================================================================================================================================================================================================================================================================================================================================================================================================================================================================================================================================================================================================================================================================================================================================================================================================================================================================================================================================================================================================================================================================================================================================================================================================================================================================================================================================================================================================================================================================================================================================================================================================================================================================================================================================================================================================================================================================================================================================================================================================================================================================================================================================================================================================================================================================================================================================================================================================================================================================================================================================================================================================================================================================================================================================================================================================================================================================================================================================================================================================================================================================================================================================================================================================================================================================================================================================================================================================================================================================================================================================================================================================================================================================================================================================================================================================================================================================================================================================================================================================================================================================================================================================================================================================================================================================================================================================================================================================================================================================================================================================================================================================================================================================================================================================================================================================================================================================================================================================================================================================================================================================================================================================================================================================================================================================================================================================================================================================================================================================================================================================================================================================================================================================================================================================================================================================================================================================================================================================================================================================================================================================================================================================================================================================================================================================================================================================================================================================================================================================================================================================================================================================================================================================================================================================================================================================================================================================================================================================================================================================================================================================================================================================================================================================================] - 0s 224us/sample - loss: 0.8845 - accuracy: 0.8350\n"
     ]
    },
    {
     "data": {
      "text/plain": [
       "[1.132023671299969, 0.83504194]"
      ]
     },
     "execution_count": 117,
     "metadata": {},
     "output_type": "execute_result"
    }
   ],
   "source": [
    "model.evaluate(x = x_testing, y = y_testing_encoded)"
   ]
  },
  {
   "cell_type": "code",
   "execution_count": 61,
   "metadata": {},
   "outputs": [],
   "source": [
    "model.load_weights('best_model.h5')"
   ]
  },
  {
   "cell_type": "markdown",
   "metadata": {},
   "source": [
    "# model testing"
   ]
  },
  {
   "cell_type": "code",
   "execution_count": 69,
   "metadata": {},
   "outputs": [],
   "source": [
    "def read_image(img_path):\n",
    "    img = cv2.imread(img_path, cv2.IMREAD_GRAYSCALE)\n",
    "    img = cv2.resize(img, (128, 128))\n",
    "    img = np.expand_dims(img, -1)\n",
    "    img = img / 255\n",
    "    return img"
   ]
  },
  {
   "cell_type": "code",
   "execution_count": 132,
   "metadata": {},
   "outputs": [],
   "source": [
    "test_image = read_image('facial_expressions-master//test/Annapoorna_114.jpg')"
   ]
  },
  {
   "cell_type": "code",
   "execution_count": 133,
   "metadata": {},
   "outputs": [
    {
     "data": {
      "text/plain": [
       "<matplotlib.image.AxesImage at 0x248e7188f88>"
      ]
     },
     "execution_count": 133,
     "metadata": {},
     "output_type": "execute_result"
    },
    {
     "data": {
      "image/png": "[encoded data removed]",
      "text/plain": [
       "<Figure size 432x288 with 1 Axes>"
      ]
     },
     "metadata": {
      "needs_background": "light"
     },
     "output_type": "display_data"
    }
   ],
   "source": [
    "plt.imshow(test_image[:,:,0], cmap='gray')"
   ]
  },
  {
   "cell_type": "code",
   "execution_count": 134,
   "metadata": {},
   "outputs": [
    {
     "data": {
      "text/plain": [
       "array([0], dtype=int64)"
      ]
     },
     "execution_count": 134,
     "metadata": {},
     "output_type": "execute_result"
    }
   ],
   "source": [
    "model.predict_classes(np.array([test_image]))"
   ]
  },
  {
   "cell_type": "code",
   "execution_count": null,
   "metadata": {},
   "outputs": [],
   "source": []
  },
  {
   "cell_type": "code",
   "execution_count": null,
   "metadata": {},
   "outputs": [],
   "source": []
  }
 ],
 "metadata": {
  "kernelspec": {
   "display_name": "Python 3",
   "language": "python",
   "name": "python3"
  },
  "language_info": {
   "codemirror_mode": {
    "name": "ipython",
    "version": 3
   },
   "file_extension": ".py",
   "mimetype": "text/x-python",
   "name": "python",
   "nbconvert_exporter": "python",
   "pygments_lexer": "ipython3",
   "version": "3.7.4"
  }
 },
 "nbformat": 4,
 "nbformat_minor": 2
}
